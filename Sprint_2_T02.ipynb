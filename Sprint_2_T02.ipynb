{
 "cells": [
  {
   "cell_type": "markdown",
   "id": "5a81697d",
   "metadata": {},
   "source": [
    "# Tarea M2 T02"
   ]
  },
  {
   "cell_type": "markdown",
   "id": "a1675884",
   "metadata": {},
   "source": [
    "## Ejercicio 1"
   ]
  },
  {
   "cell_type": "code",
   "execution_count": 1,
   "id": "ccec1d32",
   "metadata": {},
   "outputs": [
    {
     "name": "stdout",
     "output_type": "stream",
     "text": [
      "El alumno ha obtenido un: Excelente\n"
     ]
    }
   ],
   "source": [
    "def Resultado(Nota):\n",
    "    if 0<=Nota<=5:\n",
    "        return(\"Suspendido\")\n",
    "    elif 5<Nota<=7:\n",
    "        return(\"Aprobado\")\n",
    "    elif 7<Nota<9:\n",
    "        return(\"Notable\")\n",
    "    elif 9<=Nota<=10:\n",
    "        return(\"Excelente\")\n",
    "    else:\n",
    "        return(\"nota fuera de rango\")\n",
    "  \n",
    "Nota = 9.5\n",
    "\n",
    "print(\"El alumno ha obtenido un:\",Resultado(Nota))"
   ]
  },
  {
   "cell_type": "markdown",
   "id": "176d06be",
   "metadata": {},
   "source": [
    "## Ejercicio 2"
   ]
  },
  {
   "cell_type": "code",
   "execution_count": 66,
   "id": "5763988b",
   "metadata": {},
   "outputs": [
    {
     "name": "stdout",
     "output_type": "stream",
     "text": [
      "Escribe un primer número 7\n",
      "Escribe un segundo número 9\n",
      "El segundo número es mayor.\n"
     ]
    }
   ],
   "source": [
    "def Comparar(N1,N2):   \n",
    "    if N1>N2:\n",
    "        print('El primer número es mayor.')\n",
    "    elif N1<N2:\n",
    "        print('El segundo número es mayor.')\n",
    "    else:\n",
    "        print('Los números son iguales.')\n",
    "Comparar(N1 = float(input(\"Escribe un primer número \")), N2 = float(input(\"Escribe un segundo número \")))"
   ]
  },
  {
   "cell_type": "markdown",
   "id": "e007b02d",
   "metadata": {},
   "source": [
    "## Ejercicio 3"
   ]
  },
  {
   "cell_type": "code",
   "execution_count": 74,
   "id": "4847c6c7",
   "metadata": {},
   "outputs": [
    {
     "name": "stdout",
     "output_type": "stream",
     "text": [
      "Cuál es tu nombre: Juan\n",
      "Escribe un número entero: 5\n",
      "Juan Juan Juan Juan Juan \n"
     ]
    }
   ],
   "source": [
    "def NombreR():\n",
    "    Nombre = str(input(\"Cuál es tu nombre: \"))\n",
    "    N=int(input(\"Escribe un número entero: \"))\n",
    "    if N<=0:\n",
    "        print ('Error! Debes poner un número mayor a cero.')\n",
    "    else:\n",
    "        Nombre = Nombre + \" \"\n",
    "        print (Nombre * N)\n",
    "NombreR()"
   ]
  },
  {
   "cell_type": "markdown",
   "id": "1dbf1bb3",
   "metadata": {},
   "source": [
    "## Ejercicio 4"
   ]
  },
  {
   "cell_type": "code",
   "execution_count": 186,
   "id": "93744faf",
   "metadata": {},
   "outputs": [
    {
     "name": "stdout",
     "output_type": "stream",
     "text": [
      "La lista es simétrica y tiene 7 elementos\n"
     ]
    }
   ],
   "source": [
    "L1=[4,3,2,1,2,3,4]\n",
    "L2=[4,5,6,7,9,3]\n",
    "def Lista(x):\n",
    "    if x[::1] == x[::-1]:\n",
    "        print(\"La lista es simétrica y tiene\", len(x), \"elementos\")\n",
    "    else:\n",
    "        print(\"La lista no es simétrica\")\n",
    "Lista(L1)"
   ]
  },
  {
   "cell_type": "code",
   "execution_count": 79,
   "id": "4023b5c0",
   "metadata": {},
   "outputs": [
    {
     "name": "stdout",
     "output_type": "stream",
     "text": [
      "La lista no es simétrica\n"
     ]
    }
   ],
   "source": [
    "Lista(L2)"
   ]
  },
  {
   "cell_type": "markdown",
   "id": "e5270e64",
   "metadata": {},
   "source": [
    "## Ejercicio 5"
   ]
  },
  {
   "cell_type": "code",
   "execution_count": 229,
   "id": "a8ca519c",
   "metadata": {},
   "outputs": [
    {
     "name": "stdout",
     "output_type": "stream",
     "text": [
      "Coincide el 3\n",
      "Coincide el 5\n",
      "Coincide el 7\n"
     ]
    }
   ],
   "source": [
    "list=[7,56,4,3,34,5,28,7,16]\n",
    "\n",
    "def CoincideP(x):\n",
    "    for x in range(len(list)):\n",
    "        if list[x] != x : continue\n",
    "        print(\"Coincide el\", list[x])\n",
    "        \n",
    "CoincideP(list)\n"
   ]
  }
 ],
 "metadata": {
  "kernelspec": {
   "display_name": "Python 3 (ipykernel)",
   "language": "python",
   "name": "python3"
  },
  "language_info": {
   "codemirror_mode": {
    "name": "ipython",
    "version": 3
   },
   "file_extension": ".py",
   "mimetype": "text/x-python",
   "name": "python",
   "nbconvert_exporter": "python",
   "pygments_lexer": "ipython3",
   "version": "3.11.4"
  }
 },
 "nbformat": 4,
 "nbformat_minor": 5
}
